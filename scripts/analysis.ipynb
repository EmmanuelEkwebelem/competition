{
 "cells": [
  {
   "cell_type": "code",
   "execution_count": null,
   "metadata": {},
   "outputs": [],
   "source": [
    "!pip install mljar-supervised\n",
    "!pip install tplot"
   ]
  },
  {
   "cell_type": "code",
   "execution_count": null,
   "metadata": {},
   "outputs": [],
   "source": [
    "from sklearn.metrics import accuracy_score\n",
    "from sklearn.model_selection import train_test_split\n",
    "from supervised.automl import AutoML"
   ]
  },
  {
   "cell_type": "code",
   "execution_count": null,
   "metadata": {},
   "outputs": [],
   "source": [
    "import pandas \n",
    "import tplot\n",
    "import os\n",
    "import scipy.stats"
   ]
  },
  {
   "cell_type": "code",
   "execution_count": null,
   "metadata": {},
   "outputs": [],
   "source": [
    "DistanceEnhancement = pandas.read_csv(r'C:\\Users\\emman\\Documents\\GitHub\\competition\\data\\EnhancedDatasets\\DistanceEnhancement.csv')\n",
    "DistanceEnhancement"
   ]
  },
  {
   "cell_type": "code",
   "execution_count": null,
   "metadata": {},
   "outputs": [],
   "source": [
    "AgeEnhancement = pandas.read_csv(r'C:\\Users\\emman\\Documents\\GitHub\\competition\\data\\EnhancedDatasets\\AgeEnhancement.csv')\n",
    "AgeEnhancement"
   ]
  },
  {
   "cell_type": "code",
   "execution_count": null,
   "metadata": {},
   "outputs": [],
   "source": [
    "WeatherEnhancement = pandas.read_csv(r'C:\\Users\\emman\\Documents\\GitHub\\competition\\data\\EnhancedDatasets\\WeatherEnhancement.csv')\n",
    "WeatherEnhancement"
   ]
  },
  {
   "attachments": {},
   "cell_type": "markdown",
   "metadata": {},
   "source": [
    "# Statistical Analyses\n"
   ]
  },
  {
   "attachments": {},
   "cell_type": "markdown",
   "metadata": {},
   "source": [
    "Chi-Squared Test = Statistical Test for Interrelations Between Categorical Data"
   ]
  },
  {
   "cell_type": "code",
   "execution_count": null,
   "metadata": {},
   "outputs": [],
   "source": [
    "\n",
    "data_crosstab1 = pandas.crosstab(DistanceEnhancement['patient_distance_from_practice_group'],DistanceEnhancement['appointment_yosi_noshow1'],\n",
    "margins=True, margins_name=\"Total\")\n",
    "\n",
    "print(data_crosstab1)\n",
    "print(\"\\n--------------------------------------------------------------------------------------\")\n",
    "# significance level\n",
    "alpha = 0.05\n",
    "\n",
    "# Calcualtion of Chisquare\n",
    "chi_square1 = 0\n",
    "rows1 = DistanceEnhancement['patient_distance_from_practice_group'].unique()\n",
    "columns1 = DistanceEnhancement['appointment_yosi_noshow1'].unique()\n",
    "for i in columns1:\n",
    "    for j in rows1:\n",
    "        O = data_crosstab1[i][j]\n",
    "        E = data_crosstab1[i]['Total'] * data_crosstab1['Total'][j] / data_crosstab1['Total']['Total']\n",
    "        chi_square1 += (O-E)**2/E\n",
    "        \n",
    "# The p-value approach\n",
    "print(\"Approach 1: The p-value approach to hypothesis testing in the decision rule\")\n",
    "p_value1 = 1 - scipy.stats.chi2.cdf(chi_square1, (len(rows1)-1)*(len(columns1)-1))\n",
    "conclusion1 = \"Failed to reject the null hypothesis, there is no relationship between Distance and No Shows\"\n",
    "if p_value1 <= alpha:\n",
    "    conclusion = \"Null Hypothesis is rejected, there is a relationship between Distance and No Shows\"\n",
    "        \n",
    "print(\"chisquare-score is:\", chi_square1, \" and p value is:\", p_value1)\n",
    "print(conclusion1)\n",
    "\n",
    "# The critical value approach\n",
    "print(\"\\n--------------------------------------------------------------------------------------\")\n",
    "print(\"Approach 2: The critical value approach to hypothesis testing in the decision rule\")\n",
    "critical_value = scipy.stats.chi2.ppf(1-alpha, (len(rows1)-1)*(len(columns1)-1))\n",
    "conclusion = \"Failed to reject the null hypothesis, there is no relationship between Distance and No Shows\"\n",
    "if chi_square1 > critical_value:\n",
    "    conclusion = \"Null Hypothesis is rejected, there is a relationship between Distance and No Shows\"\n",
    "        \n",
    "print(\"chisquare-score is:\", chi_square1, \" and critical value is:\", critical_value)\n",
    "print(conclusion)"
   ]
  },
  {
   "cell_type": "code",
   "execution_count": null,
   "metadata": {},
   "outputs": [],
   "source": [
    "\n",
    "data_crosstab2 = pandas.crosstab(AgeEnhancement['patient_age_group'],AgeEnhancement['appointment_yosi_noshow1'],\n",
    "margins=True, margins_name=\"Total\")\n",
    "\n",
    "print(data_crosstab2)\n",
    "print(\"\\n--------------------------------------------------------------------------------------\")\n",
    "# significance level\n",
    "alpha = 0.05\n",
    "\n",
    "# Calcualtion of Chisquare\n",
    "chi_square2 = 0\n",
    "rows2 = AgeEnhancement['patient_age_group'].unique()\n",
    "columns2 = AgeEnhancement['appointment_yosi_noshow1'].unique()\n",
    "for i in columns2:\n",
    "    for j in rows2:\n",
    "        O = data_crosstab2[i][j]\n",
    "        E = data_crosstab2[i]['Total'] * data_crosstab2['Total'][j] / data_crosstab2['Total']['Total']\n",
    "        chi_square2 += (O-E)**2/E\n",
    "        \n",
    "# The p-value approach\n",
    "print(\"Approach 1: The p-value approach to hypothesis testing in the decision rule\")\n",
    "p_value2 = 1 - scipy.stats.chi2.cdf(chi_square2, (len(rows2)-1)*(len(columns2)-1))\n",
    "conclusion2 = \"Failed to reject the null hypothesis, there is no relationship between Age Group and No Shows\"\n",
    "if p_value2 <= alpha:\n",
    "    conclusion2 = \"Null Hypothesis is rejected, there is a relationship between Age Group and No Shows\"\n",
    "        \n",
    "print(\"chisquare-score is:\", chi_square2, \" and p value is:\", p_value2)\n",
    "print(conclusion2)\n",
    "\n",
    "# The critical value approach\n",
    "print(\"\\n--------------------------------------------------------------------------------------\")\n",
    "print(\"Approach 2: The critical value approach to hypothesis testing in the decision rule\")\n",
    "critical_value = scipy.stats.chi2.ppf(1-alpha, (len(rows2)-1)*(len(columns2)-1))\n",
    "conclusion2 = \"Failed to reject the null hypothesis, there is no relationship between Age Group and No Shows\"\n",
    "if chi_square2 > critical_value:\n",
    "    conclusion2 = \"Null Hypothesis is rejected, there is a relationship between Age Group and No Shows\"\n",
    "        \n",
    "print(\"chisquare-score is:\", chi_square2, \" and critical value is:\", critical_value)\n",
    "print(conclusion2)"
   ]
  },
  {
   "cell_type": "code",
   "execution_count": null,
   "metadata": {},
   "outputs": [],
   "source": [
    "\n",
    "data_crosstab3 = pandas.crosstab(WeatherEnhancement['weather_icon'],WeatherEnhancement['appointment_yosi_noshow1'],\n",
    "margins=True, margins_name=\"Total\")\n",
    "\n",
    "print(data_crosstab3)\n",
    "print(\"\\n--------------------------------------------------------------------------------------\")\n",
    "# significance level\n",
    "alpha = 0.05\n",
    "\n",
    "# Calcualtion of Chisquare\n",
    "chi_square3 = 0\n",
    "rows3 = WeatherEnhancement['weather_icon'].unique()\n",
    "columns3 = WeatherEnhancement['appointment_yosi_noshow1'].unique()\n",
    "for i in columns3:\n",
    "    for j in rows3:\n",
    "        O = data_crosstab3[i][j]\n",
    "        E = data_crosstab3[i]['Total'] * data_crosstab3['Total'][j] / data_crosstab3['Total']['Total']\n",
    "        chi_square3 += (O-E)**2/E\n",
    "        \n",
    "# The p-value approach\n",
    "print(\"Approach 1: The p-value approach to hypothesis testing in the decision rule\")\n",
    "p_value3 = 1 - scipy.stats.chi2.cdf(chi_square3, (len(rows3)-1)*(len(columns3)-1))\n",
    "conclusion3 = \"Failed to reject the null hypothesis, there is no relationship between Weather Conditions and No Shows\"\n",
    "if p_value3 <= alpha:\n",
    "    conclusion3 = \"Null Hypothesis is rejected, there is a relationship between Weather Conditions and No Shows\"\n",
    "        \n",
    "print(\"chisquare-score is:\", chi_square3, \" and p value is:\", p_value3)\n",
    "print(conclusion3)\n",
    "\n",
    "# The critical value approach\n",
    "print(\"\\n--------------------------------------------------------------------------------------\")\n",
    "print(\"Approach 2: The critical value approach to hypothesis testing in the decision rule\")\n",
    "critical_value3 = scipy.stats.chi2.ppf(1-alpha, (len(rows3)-1)*(len(columns3)-1))\n",
    "conclusion3 = \"Failed to reject the null hypothesis, there is no relationship between Weather Conditions and No Shows\"\n",
    "if chi_square3 > critical_value3:\n",
    "    conclusion3 = \"Null Hypothesis is rejected, there is a relationship between Weather Conditions and No Shows\"\n",
    "        \n",
    "print(\"chisquare-score is:\", chi_square3, \" and critical value is:\", critical_value3)\n",
    "print(conclusion3)"
   ]
  },
  {
   "attachments": {},
   "cell_type": "markdown",
   "metadata": {},
   "source": [
    "# Multi-Class AutoML Analyses\n"
   ]
  },
  {
   "cell_type": "code",
   "execution_count": null,
   "metadata": {},
   "outputs": [],
   "source": [
    "DistanceEnhancement = DistanceEnhancement[DistanceEnhancement['patient_distance_from_practice_group'].notna()]"
   ]
  },
  {
   "cell_type": "code",
   "execution_count": null,
   "metadata": {},
   "outputs": [],
   "source": [
    "AgeEnhancement = AgeEnhancement[AgeEnhancement['patient_age_group'].notna()]"
   ]
  },
  {
   "cell_type": "code",
   "execution_count": null,
   "metadata": {},
   "outputs": [],
   "source": [
    "WeatherEnhancement = WeatherEnhancement[WeatherEnhancement['weather_icon'].notna()]"
   ]
  },
  {
   "cell_type": "code",
   "execution_count": null,
   "metadata": {},
   "outputs": [],
   "source": [
    "X1 = DistanceEnhancement['appointment_yosi_noshow1']\n",
    "X1"
   ]
  },
  {
   "cell_type": "code",
   "execution_count": null,
   "metadata": {},
   "outputs": [],
   "source": [
    "X2 = AgeEnhancement['appointment_yosi_noshow1']\n",
    "X2"
   ]
  },
  {
   "cell_type": "code",
   "execution_count": null,
   "metadata": {},
   "outputs": [],
   "source": [
    "X3 = WeatherEnhancement['appointment_yosi_noshow1']\n",
    "X3"
   ]
  },
  {
   "cell_type": "code",
   "execution_count": null,
   "metadata": {},
   "outputs": [],
   "source": [
    "Y1 = DistanceEnhancement['patient_distance_from_practice_group'].value_counts()\n",
    "Y1"
   ]
  },
  {
   "cell_type": "code",
   "execution_count": null,
   "metadata": {},
   "outputs": [],
   "source": [
    "Y2 = AgeEnhancement['patient_age_group'].value_counts()\n",
    "Y2"
   ]
  },
  {
   "cell_type": "code",
   "execution_count": null,
   "metadata": {},
   "outputs": [],
   "source": [
    "Y3 = WeatherEnhancement['weather_icon'].value_counts()\n",
    "Y3"
   ]
  },
  {
   "cell_type": "code",
   "execution_count": null,
   "metadata": {},
   "outputs": [],
   "source": [
    "X1_train, X1_test, Y1_train, Y1_test = train_test_split(X1, Y1, stratify=Y1, test_size=0.25)"
   ]
  },
  {
   "cell_type": "code",
   "execution_count": null,
   "metadata": {},
   "outputs": [],
   "source": [
    "automl1 = AutoML(\n",
    "    results_path=\"patient_distance_from_practice_group\",\n",
    "    mode=\"Explain\"\n",
    ")"
   ]
  },
  {
   "cell_type": "code",
   "execution_count": null,
   "metadata": {},
   "outputs": [],
   "source": [
    "X2_train, X2_test, Y2_train, Y2_test = train_test_split(X2, Y2, stratify=Y2, test_size=0.25)"
   ]
  },
  {
   "cell_type": "code",
   "execution_count": null,
   "metadata": {},
   "outputs": [],
   "source": [
    "automl2 = AutoML(\n",
    "    results_path=\"patient_age_group\",\n",
    "    mode=\"Explain\"\n",
    ")"
   ]
  },
  {
   "cell_type": "code",
   "execution_count": null,
   "metadata": {},
   "outputs": [],
   "source": [
    "X3_train, X3_test, Y3_train, Y3_test = train_test_split(X3, Y3, stratify=Y3, test_size=0.25)"
   ]
  },
  {
   "cell_type": "code",
   "execution_count": null,
   "metadata": {},
   "outputs": [],
   "source": [
    "automl3 = AutoML(\n",
    "    results_path=\"weather_icon\",\n",
    "    mode=\"Explain\"\n",
    ")"
   ]
  },
  {
   "cell_type": "code",
   "execution_count": null,
   "metadata": {},
   "outputs": [],
   "source": [
    "automl1.fit(X1_train, Y1_train)"
   ]
  },
  {
   "cell_type": "code",
   "execution_count": null,
   "metadata": {},
   "outputs": [],
   "source": [
    "automl2.fit(X2_train, Y2_train)"
   ]
  },
  {
   "cell_type": "code",
   "execution_count": null,
   "metadata": {},
   "outputs": [],
   "source": [
    "automl3.fit(X3_train, Y3_train)"
   ]
  },
  {
   "cell_type": "code",
   "execution_count": null,
   "metadata": {},
   "outputs": [],
   "source": [
    "pred1 = automl1.predict(X1_test)\n",
    "pred1"
   ]
  },
  {
   "cell_type": "code",
   "execution_count": null,
   "metadata": {},
   "outputs": [],
   "source": [
    "pred2 = automl2.predict(X2_test)\n",
    "pred2"
   ]
  },
  {
   "cell_type": "code",
   "execution_count": null,
   "metadata": {},
   "outputs": [],
   "source": [
    "pred3 = automl3.predict(X3_test)\n",
    "pred3"
   ]
  },
  {
   "cell_type": "code",
   "execution_count": null,
   "metadata": {},
   "outputs": [],
   "source": [
    "automl1.report()"
   ]
  },
  {
   "cell_type": "code",
   "execution_count": null,
   "metadata": {},
   "outputs": [],
   "source": [
    "automl2.report()"
   ]
  },
  {
   "cell_type": "code",
   "execution_count": null,
   "metadata": {},
   "outputs": [],
   "source": [
    "automl3.report()"
   ]
  },
  {
   "cell_type": "code",
   "execution_count": null,
   "metadata": {},
   "outputs": [],
   "source": [
    "AutoML_DistanceEnhancement_patient_distance_from_practice_group = AutoML(results_path=\"DistanceEnhancement_patient_distance_from_practice_group\")"
   ]
  },
  {
   "cell_type": "code",
   "execution_count": null,
   "metadata": {},
   "outputs": [],
   "source": [
    "AutoML_AgeEnhancement_patient_age_group = AutoML(results_path=\"AgeEnhancement_patient_age_group\")"
   ]
  },
  {
   "cell_type": "code",
   "execution_count": null,
   "metadata": {},
   "outputs": [],
   "source": [
    "AutoML_WeatherEnhancement_weather_icon = AutoML(results_path=\"WeatherEnhancement_weather_icon\")"
   ]
  }
 ],
 "metadata": {
  "kernelspec": {
   "display_name": "Python 3",
   "language": "python",
   "name": "python3"
  },
  "language_info": {
   "codemirror_mode": {
    "name": "ipython",
    "version": 3
   },
   "file_extension": ".py",
   "mimetype": "text/x-python",
   "name": "python",
   "nbconvert_exporter": "python",
   "pygments_lexer": "ipython3",
   "version": "3.10.7"
  },
  "orig_nbformat": 4,
  "vscode": {
   "interpreter": {
    "hash": "80acabf83f03f6708b4a7d1d74fe7eb69e19c51052afaa6d4e26b05791fa57cb"
   }
  }
 },
 "nbformat": 4,
 "nbformat_minor": 2
}
