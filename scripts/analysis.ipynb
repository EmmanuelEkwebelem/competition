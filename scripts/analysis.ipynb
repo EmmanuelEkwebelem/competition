{
 "cells": [
  {
   "cell_type": "code",
   "execution_count": null,
   "metadata": {},
   "outputs": [],
   "source": [
    "!pip install mljar-supervised\n",
    "!pip install tplot"
   ]
  },
  {
   "cell_type": "code",
   "execution_count": null,
   "metadata": {},
   "outputs": [],
   "source": [
    "from sklearn.metrics import accuracy_score\n",
    "from sklearn.model_selection import train_test_split\n",
    "from supervised.automl import AutoML"
   ]
  },
  {
   "cell_type": "code",
   "execution_count": null,
   "metadata": {},
   "outputs": [],
   "source": [
    "import pandas \n",
    "import tplot\n",
    "import os"
   ]
  },
  {
   "cell_type": "markdown",
   "metadata": {},
   "source": [
    "# Experiment 1: Multi-Class Variable\n"
   ]
  },
  {
   "cell_type": "code",
   "execution_count": null,
   "metadata": {},
   "outputs": [],
   "source": [
    "DistanceEnhancement = pandas.read_csv('data\\EnhancedDatasets\\DistanceEnhancement.csv')\n",
    "AgeEnhancement = pandas.read_csv('data\\EnhancedDatasets\\AgeEnhancement.csv')\n",
    "WeatherEnhancement = pandas.read_csv('data\\EnhancedDatasets\\WeatherEnhancement.csv')"
   ]
  },
  {
   "cell_type": "code",
   "execution_count": null,
   "metadata": {},
   "outputs": [],
   "source": [
    "SPARCS['APR Risk of Mortality'].describe()\n",
    "SPARCS['APR Risk of Mortality'].describe()\n",
    "SPARCS['APR Risk of Mortality'].describe()"
   ]
  },
  {
   "cell_type": "code",
   "execution_count": null,
   "metadata": {},
   "outputs": [],
   "source": [
    "print(SPARCS['APR Risk of Mortality'].dtypes)\n",
    "print(SPARCS['APR Risk of Mortality'].dtypes)\n",
    "print(SPARCS['APR Risk of Mortality'].dtypes)"
   ]
  },
  {
   "cell_type": "code",
   "execution_count": null,
   "metadata": {},
   "outputs": [],
   "source": [
    "SPARCS['APR Risk of Mortality'].value_counts()\n",
    "SPARCS['APR Risk of Mortality'].value_counts()\n",
    "SPARCS['APR Risk of Mortality'].value_counts()"
   ]
  },
  {
   "cell_type": "code",
   "execution_count": null,
   "metadata": {},
   "outputs": [],
   "source": [
    "SPARCS = SPARCS[SPARCS['APR Risk of Mortality'].notna()]\n",
    "SPARCS = SPARCS[SPARCS['APR Risk of Mortality'].notna()]\n",
    "SPARCS = SPARCS[SPARCS['APR Risk of Mortality'].notna()]"
   ]
  },
  {
   "cell_type": "code",
   "execution_count": null,
   "metadata": {},
   "outputs": [],
   "source": [
    "X = SPARCS.drop(columns=['APR Risk of Mortality'])\n",
    "X\n",
    "X = SPARCS.drop(columns=['APR Risk of Mortality'])\n",
    "X\n",
    "X = SPARCS.drop(columns=['APR Risk of Mortality'])\n",
    "X"
   ]
  },
  {
   "cell_type": "code",
   "execution_count": null,
   "metadata": {},
   "outputs": [],
   "source": [
    "print(\"Predictions\")\n",
    "print(SPARCS[['Total Charges', 'predictions']].head())"
   ]
  },
  {
   "cell_type": "code",
   "execution_count": null,
   "metadata": {},
   "outputs": [],
   "source": [
    "Y = SPARCS['APR Risk of Mortality']\n",
    "Y\n",
    "Y = SPARCS['APR Risk of Mortality']\n",
    "Y\n",
    "Y = SPARCS['APR Risk of Mortality']\n",
    "Y"
   ]
  },
  {
   "cell_type": "code",
   "execution_count": null,
   "metadata": {},
   "outputs": [],
   "source": [
    "X_train, X_test, Y_train, Y_test = train_test_split(X, Y, stratify=Y, test_size=0.25)\n",
    "X_train, X_test, Y_train, Y_test = train_test_split(X, Y, stratify=Y, test_size=0.25)\n",
    "X_train, X_test, Y_train, Y_test = train_test_split(X, Y, stratify=Y, test_size=0.25)"
   ]
  },
  {
   "cell_type": "code",
   "execution_count": null,
   "metadata": {},
   "outputs": [],
   "source": [
    "automl = AutoML(\n",
    "    results_path=\"SPARCS_APR_Risk_of_Mortality\",\n",
    "    mode=\"Explain\"\n",
    ")\n",
    "automl = AutoML(\n",
    "    results_path=\"SPARCS_APR_Risk_of_Mortality\",\n",
    "    mode=\"Explain\"\n",
    ")\n",
    "automl = AutoML(\n",
    "    results_path=\"SPARCS_APR_Risk_of_Mortality\",\n",
    "    mode=\"Explain\"\n",
    ")"
   ]
  },
  {
   "cell_type": "code",
   "execution_count": null,
   "metadata": {},
   "outputs": [],
   "source": [
    "automl.fit(X_train, Y_train)\n",
    "automl.fit(X_train, Y_train)\n",
    "automl.fit(X_train, Y_train)"
   ]
  },
  {
   "cell_type": "code",
   "execution_count": null,
   "metadata": {},
   "outputs": [],
   "source": [
    "pred = automl.predict(X_test)\n",
    "pred\n",
    "pred = automl.predict(X_test)\n",
    "pred\n",
    "pred = automl.predict(X_test)\n",
    "pred"
   ]
  },
  {
   "cell_type": "code",
   "execution_count": null,
   "metadata": {},
   "outputs": [],
   "source": [
    "automl.report()\n",
    "automl.report()\n",
    "automl.report()"
   ]
  },
  {
   "cell_type": "code",
   "execution_count": null,
   "metadata": {},
   "outputs": [],
   "source": [
    "AutoML_SPARCS_APR_Risk_of_Mortality = AutoML(results_path=\"SPARCS_APR_Risk_of_Mortality\")\n",
    "AutoML_SPARCS_APR_Risk_of_Mortality = AutoML(results_path=\"SPARCS_APR_Risk_of_Mortality\")\n",
    "AutoML_SPARCS_APR_Risk_of_Mortality = AutoML(results_path=\"SPARCS_APR_Risk_of_Mortality\")"
   ]
  },
  {
   "cell_type": "code",
   "execution_count": null,
   "metadata": {},
   "outputs": [],
   "source": [
    "ARM = SPARCS.sample(5)\n",
    "No_ARM = ARM.drop(columns=['APR Risk of Mortality'])\n",
    "ARM = SPARCS.sample(5)\n",
    "No_ARM = ARM.drop(columns=['APR Risk of Mortality'])\n",
    "ARM = SPARCS.sample(5)\n",
    "No_ARM = ARM.drop(columns=['APR Risk of Mortality'])"
   ]
  },
  {
   "cell_type": "code",
   "execution_count": null,
   "metadata": {},
   "outputs": [],
   "source": [
    "predict = automl.predict(No_ARM)\n",
    "predict\n",
    "predict = automl.predict(No_ARM)\n",
    "predict\n",
    "predict = automl.predict(No_ARM)\n",
    "predict"
   ]
  },
  {
   "cell_type": "code",
   "execution_count": null,
   "metadata": {},
   "outputs": [],
   "source": [
    "values_actual = ARM['APR Risk of Mortality'].values.tolist()\n",
    "values_predicted = predict.tolist()\n",
    "output = pandas.DataFrame({'actual': values_actual, 'predicted': values_predicted})\n",
    "output\n",
    "values_actual = ARM['APR Risk of Mortality'].values.tolist()\n",
    "values_predicted = predict.tolist()\n",
    "output = pandas.DataFrame({'actual': values_actual, 'predicted': values_predicted})\n",
    "output\n",
    "values_actual = ARM['APR Risk of Mortality'].values.tolist()\n",
    "values_predicted = predict.tolist()\n",
    "output = pandas.DataFrame({'actual': values_actual, 'predicted': values_predicted})\n",
    "output"
   ]
  },
  {
   "cell_type": "markdown",
   "metadata": {},
   "source": [
    "# Downloading Output"
   ]
  },
  {
   "cell_type": "code",
   "execution_count": null,
   "metadata": {},
   "outputs": [],
   "source": [
    "os.getcwd()"
   ]
  },
  {
   "cell_type": "code",
   "execution_count": null,
   "metadata": {},
   "outputs": [],
   "source": [
    "folders = os.listdir()"
   ]
  },
  {
   "cell_type": "code",
   "execution_count": null,
   "metadata": {},
   "outputs": [],
   "source": [
    "print(folders)"
   ]
  },
  {
   "cell_type": "code",
   "execution_count": null,
   "metadata": {},
   "outputs": [],
   "source": [
    "!zip -r /content/SPARCS_APR_Risk_of_Mortality.zip /content/SPARCS_APR_Risk_of_Mortality"
   ]
  },
  {
   "cell_type": "code",
   "execution_count": null,
   "metadata": {},
   "outputs": [],
   "source": [
    "!zip -r /content/SPARCS_Total_Charges.zip /content/SPARCS_Total_Charges\n"
   ]
  },
  {
   "cell_type": "code",
   "execution_count": null,
   "metadata": {},
   "outputs": [],
   "source": [
    "!zip -r /content/SPARCS_Total_Charges.zip /content/SPARCS_Total_Charges"
   ]
  }
 ],
 "metadata": {
  "kernelspec": {
   "display_name": "Python 3",
   "language": "python",
   "name": "python3"
  },
  "language_info": {
   "codemirror_mode": {
    "name": "ipython",
    "version": 3
   },
   "file_extension": ".py",
   "mimetype": "text/x-python",
   "name": "python",
   "nbconvert_exporter": "python",
   "pygments_lexer": "ipython3",
   "version": "3.10.7"
  },
  "orig_nbformat": 4,
  "vscode": {
   "interpreter": {
    "hash": "80acabf83f03f6708b4a7d1d74fe7eb69e19c51052afaa6d4e26b05791fa57cb"
   }
  }
 },
 "nbformat": 4,
 "nbformat_minor": 2
}
